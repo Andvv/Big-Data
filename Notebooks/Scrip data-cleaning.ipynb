{
 "cells": [
  {
   "cell_type": "code",
   "execution_count": 1,
   "metadata": {},
   "outputs": [],
   "source": [
    "# pseudo codigo\n",
    "# main()\n",
    "#    datos = get_data(filename)\n",
    "#    duplicados = remove_duplicates\n",
    "#    fechas = cleaning_date (data)\n",
    "#    save_data(reporte)\n",
    "\n",
    "import os\n",
    "import pandas as pd\n",
    "from pathlib import Path\n",
    "import numpy as np\n",
    "from dateutil.parser import parse\n",
    "\n",
    "root_dir = Path(\".\").resolve()"
   ]
  },
  {
   "cell_type": "code",
   "execution_count": 2,
   "metadata": {},
   "outputs": [],
   "source": [
    "def get_data(filename):\n",
    "    \n",
    "    data_dir = 'raw'\n",
    "    file_path = os.path.join(root_dir, \"data\", data_dir, filename)\n",
    "\n",
    "    datos = pd.read_csv(file_path, encoding='latin-1', sep=';')\n",
    "    print('get_data')\n",
    "    print('La tabla contiene', datos.shape[0], 'filas', datos.shape[1], 'columnas')\n",
    "    return datos"
   ]
  },
  {
   "cell_type": "code",
   "execution_count": 3,
   "metadata": {},
   "outputs": [],
   "source": [
    "def remove_duplicates(datos):\n",
    "  data = data.drop_duplicates() \n",
    "  data.reset_index(inplace=True, drop=True) \n",
    "  return data\n"
   ]
  },
  {
   "cell_type": "code",
   "execution_count": 5,
   "metadata": {},
   "outputs": [],
   "source": [
    "def cleaning_date (data):\n",
    "\n",
    "  col ='FECHA_INICIO_DESPLAZAMIENTO_MOVIL'\n",
    "  data[col] #verificar como vienen los datos de la columna de fechas\n",
    "\n",
    "  fecha = '1985-12-03 00:00:00'\n",
    "  pd.to_datetime(fecha,errors='coerce', format ='%Y/%m/%d')#no asignarle nada si se encuentra en ese formato \n",
    "  #y asignarle un formato de fecha para verificar si es una fecha correcta o es un NaT\n",
    "\n",
    "  col='FECHA_INICIO_DESPLAZAMIENTO_MOVIL'\n",
    "  data[col] = pd.to_datetime(data[col],errors='coerce') #cambiar el tipo de dato string a fecha\n",
    "  data.info()\n",
    "\n",
    "  #crear una funcion para intentar corregir las fechas incluyendo los nulos\n",
    "  fechas = lambda x: parse(x)\n",
    "\n",
    "  list_fechas = list() #convertir en una lista las fechas\n",
    "  for fecha in data[col]:\n",
    "    try: #intente hacerlo\n",
    "        new_fecha = parse(fecha)\n",
    "    except Exception as e:\n",
    "        new_fecha = pd.to_datetime(fecha,errors='coerce')#me muestra los errores como NaT y no se detiene el codigo\n",
    "       \n",
    "    list_fechas.append(new_fecha)\n",
    "\n",
    "  data['RECEPCION_CORREGIDA'] =list_fechas #crear una nueva columna con las fecha corregidas\n"
   ]
  },
  {
   "cell_type": "code",
   "execution_count": 7,
   "metadata": {},
   "outputs": [],
   "source": [
    "def column_cleaning (data):\n",
    "\n",
    " col = 'UNIDAD'\n",
    " data [col].fillna('SIN_DATO', inplace=True)\n",
    " data [col].value_counts(dropna=False, normalize=True)\n",
    "\n",
    " col='EDAD'\n",
    " data[col].value_counts(dropna=False, normalize =True) \n",
    " #verificar como vienen los datos de la columna de EDAD y nos damos cuenta que vienen algunos sin datos\n",
    "\n",
    " col='EDAD'\n",
    " data[col].replace({'SIN_DATO': np.nan}, inplace =True) #reemplaza las de SIN_DATE por nan sin numero asignado\n",
    " data[col]\n",
    "\n",
    " f = lambda x: x if pd.isna(x) else int(x) #definimos la funcion f para que si es nulo ponga x o si no ponga entero de f\n",
    " f(str_num)\n",
    " data[col] = data[col].apply(f)#para cambiar el tipo de dato de la columna EDAD de object a float"
   ]
  },
  {
   "cell_type": "code",
   "execution_count": 8,
   "metadata": {},
   "outputs": [],
   "source": [
    "def main():\n",
    "    pass\n",
    "\n",
    "if __name__ == \"__main__\":\n",
    "    main()"
   ]
  }
 ],
 "metadata": {
  "kernelspec": {
   "display_name": "Python 3.10.6 64-bit",
   "language": "python",
   "name": "python3"
  },
  "language_info": {
   "codemirror_mode": {
    "name": "ipython",
    "version": 3
   },
   "file_extension": ".py",
   "mimetype": "text/x-python",
   "name": "python",
   "nbconvert_exporter": "python",
   "pygments_lexer": "ipython3",
   "version": "3.10.6"
  },
  "orig_nbformat": 4,
  "vscode": {
   "interpreter": {
    "hash": "aee8b7b246df8f9039afb4144a1f6fd8d2ca17a180786b69acc140d282b71a49"
   }
  }
 },
 "nbformat": 4,
 "nbformat_minor": 2
}
