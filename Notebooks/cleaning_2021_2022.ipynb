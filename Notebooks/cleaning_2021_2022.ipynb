{
 "cells": [
  {
   "cell_type": "code",
   "execution_count": 1,
   "metadata": {},
   "outputs": [],
   "source": [
    "import pandas as pd\n",
    "\n",
    "import os\n",
    "from pathlib import Path\n",
    "import re\n"
   ]
  },
  {
   "cell_type": "code",
   "execution_count": 2,
   "metadata": {},
   "outputs": [
    {
     "data": {
      "text/plain": [
       "'c:\\\\Users\\\\andre\\\\OneDrive\\\\Escritorio\\\\Fabian Universidad\\\\Lenguaje\\\\BigData\\\\Notebooks'"
      ]
     },
     "execution_count": 2,
     "metadata": {},
     "output_type": "execute_result"
    }
   ],
   "source": [
    "%pwd"
   ]
  },
  {
   "cell_type": "code",
   "execution_count": 3,
   "metadata": {},
   "outputs": [],
   "source": [
    "path = 'c:\\\\Users\\\\andre\\\\OneDrive\\\\Escritorio\\\\Fabian Universidad\\\\Lenguaje\\\\BigData\\\\data\\\\raw'"
   ]
  },
  {
   "cell_type": "code",
   "execution_count": 4,
   "metadata": {},
   "outputs": [],
   "source": [
    "os.chdir(path)"
   ]
  },
  {
   "cell_type": "code",
   "execution_count": 5,
   "metadata": {},
   "outputs": [
    {
     "data": {
      "text/plain": [
       "'c:\\\\Users\\\\andre\\\\OneDrive\\\\Escritorio\\\\Fabian Universidad\\\\Lenguaje\\\\BigData\\\\data\\\\raw'"
      ]
     },
     "execution_count": 5,
     "metadata": {},
     "output_type": "execute_result"
    }
   ],
   "source": [
    "%pwd"
   ]
  },
  {
   "cell_type": "code",
   "execution_count": 6,
   "metadata": {},
   "outputs": [
    {
     "data": {
      "text/plain": [
       "'C:\\\\Users\\\\andre\\\\OneDrive\\\\Escritorio\\\\Fabian Universidad\\\\Lenguaje\\\\BigData\\\\data\\\\raw\\\\data\\\\raw'"
      ]
     },
     "execution_count": 6,
     "metadata": {},
     "output_type": "execute_result"
    }
   ],
   "source": [
    "root_dir = Path(\".\").resolve()#para ubicacion de archivo # para devolver a la carpeta principal\n",
    "\n",
    "file_path = os.path.join(root_dir,\"data\",\"raw\")\n",
    "file_path"
   ]
  },
  {
   "cell_type": "code",
   "execution_count": 7,
   "metadata": {},
   "outputs": [],
   "source": [
    "archivos = [ x for x in os.listdir() if re.search('.csv$',x)]"
   ]
  },
  {
   "cell_type": "code",
   "execution_count": 8,
   "metadata": {},
   "outputs": [
    {
     "data": {
      "text/plain": [
       "['llamadas_123_abril_2021.csv',\n",
       " 'llamadas_123_abril_2022.csv',\n",
       " 'llamadas_123_agosto_2021.csv',\n",
       " 'llamadas_123_agosto_2022.csv',\n",
       " 'llamadas_123_diciembre_2021.csv',\n",
       " 'llamadas_123_enero_2021.csv',\n",
       " 'llamadas_123_enero_2022.csv',\n",
       " 'llamadas_123_febrero_2021.csv',\n",
       " 'llamadas_123_febrero_2022.csv',\n",
       " 'llamadas_123_julio_2021.csv',\n",
       " 'llamadas_123_julio_2022.csv',\n",
       " 'llamadas_123_junio_2021.csv',\n",
       " 'llamadas_123_junio_2022.csv',\n",
       " 'llamadas_123_marzo_2021.csv',\n",
       " 'llamadas_123_marzo_2022.csv',\n",
       " 'llamadas_123_mayo_2021.csv',\n",
       " 'llamadas_123_mayo_2022.csv',\n",
       " 'llamadas_123_noviembre_2021.csv',\n",
       " 'llamadas_123_octubre_2021.csv',\n",
       " 'llamadas_123_septiembre_2021.csv']"
      ]
     },
     "execution_count": 8,
     "metadata": {},
     "output_type": "execute_result"
    }
   ],
   "source": [
    "archivos"
   ]
  },
  {
   "cell_type": "code",
   "execution_count": 9,
   "metadata": {},
   "outputs": [],
   "source": [
    "df= pd.DataFrame ()"
   ]
  },
  {
   "cell_type": "code",
   "execution_count": 10,
   "metadata": {},
   "outputs": [],
   "source": [
    "for i in archivos:\n",
    "    archivo=pd.read_csv(i,\n",
    "    sep = ';',\n",
    "    encoding = 'latin-1')\n",
    "    df = pd.concat([archivo,df])"
   ]
  },
  {
   "cell_type": "code",
   "execution_count": 11,
   "metadata": {},
   "outputs": [
    {
     "data": {
      "text/plain": [
       "(251231, 11)"
      ]
     },
     "execution_count": 11,
     "metadata": {},
     "output_type": "execute_result"
    }
   ],
   "source": [
    "df.shape"
   ]
  },
  {
   "cell_type": "code",
   "execution_count": 12,
   "metadata": {},
   "outputs": [
    {
     "data": {
      "text/html": [
       "<div>\n",
       "<style scoped>\n",
       "    .dataframe tbody tr th:only-of-type {\n",
       "        vertical-align: middle;\n",
       "    }\n",
       "\n",
       "    .dataframe tbody tr th {\n",
       "        vertical-align: top;\n",
       "    }\n",
       "\n",
       "    .dataframe thead th {\n",
       "        text-align: right;\n",
       "    }\n",
       "</style>\n",
       "<table border=\"1\" class=\"dataframe\">\n",
       "  <thead>\n",
       "    <tr style=\"text-align: right;\">\n",
       "      <th></th>\n",
       "      <th>NUMERO_INCIDENTE</th>\n",
       "      <th>FECHA_INICIO_DESPLAZAMIENTO_MOVIL</th>\n",
       "      <th>CODIGO_LOCALIDAD</th>\n",
       "      <th>LOCALIDAD</th>\n",
       "      <th>EDAD</th>\n",
       "      <th>UNIDAD</th>\n",
       "      <th>GENERO</th>\n",
       "      <th>RED</th>\n",
       "      <th>TIPO_INCIDENTE</th>\n",
       "      <th>PRIORIDAD</th>\n",
       "      <th>RECEPCION</th>\n",
       "    </tr>\n",
       "  </thead>\n",
       "  <tbody>\n",
       "    <tr>\n",
       "      <th>0</th>\n",
       "      <td>CRU-00464981-21</td>\n",
       "      <td>1/09/2021 0:45</td>\n",
       "      <td>16</td>\n",
       "      <td>Puente Aranda</td>\n",
       "      <td>15</td>\n",
       "      <td>A¤os</td>\n",
       "      <td>MASCULINO</td>\n",
       "      <td>Norte</td>\n",
       "      <td>Enfermo</td>\n",
       "      <td>MEDIA</td>\n",
       "      <td>NaN</td>\n",
       "    </tr>\n",
       "    <tr>\n",
       "      <th>1</th>\n",
       "      <td>CRU-00464982-21</td>\n",
       "      <td>1/09/2021 0:03</td>\n",
       "      <td>13</td>\n",
       "      <td>Teusaquillo</td>\n",
       "      <td>SIN_DATO</td>\n",
       "      <td>SIN_DATO</td>\n",
       "      <td>SIN_DATO</td>\n",
       "      <td>Norte</td>\n",
       "      <td>Herido</td>\n",
       "      <td>ALTA</td>\n",
       "      <td>NaN</td>\n",
       "    </tr>\n",
       "    <tr>\n",
       "      <th>2</th>\n",
       "      <td>CRU-00464983-21</td>\n",
       "      <td>1/09/2021 0:15</td>\n",
       "      <td>10</td>\n",
       "      <td>Engativ</td>\n",
       "      <td>56</td>\n",
       "      <td>A¤os</td>\n",
       "      <td>MASCULINO</td>\n",
       "      <td>Norte</td>\n",
       "      <td>Intoxicaci¢n</td>\n",
       "      <td>ALTA</td>\n",
       "      <td>NaN</td>\n",
       "    </tr>\n",
       "    <tr>\n",
       "      <th>3</th>\n",
       "      <td>CRU-00464984-21</td>\n",
       "      <td>1/09/2021 0:11</td>\n",
       "      <td>2</td>\n",
       "      <td>Chapinero</td>\n",
       "      <td>SIN_DATO</td>\n",
       "      <td>SIN_DATO</td>\n",
       "      <td>SIN_DATO</td>\n",
       "      <td>Norte</td>\n",
       "      <td>Herido</td>\n",
       "      <td>ALTA</td>\n",
       "      <td>NaN</td>\n",
       "    </tr>\n",
       "    <tr>\n",
       "      <th>4</th>\n",
       "      <td>CRU-00464986-21</td>\n",
       "      <td>1/09/2021 0:16</td>\n",
       "      <td>3</td>\n",
       "      <td>Santa Fe</td>\n",
       "      <td>28</td>\n",
       "      <td>A¤os</td>\n",
       "      <td>FEMENINO</td>\n",
       "      <td>Norte</td>\n",
       "      <td>Evento Respiratorio</td>\n",
       "      <td>ALTA</td>\n",
       "      <td>NaN</td>\n",
       "    </tr>\n",
       "  </tbody>\n",
       "</table>\n",
       "</div>"
      ],
      "text/plain": [
       "  NUMERO_INCIDENTE FECHA_INICIO_DESPLAZAMIENTO_MOVIL  CODIGO_LOCALIDAD  \\\n",
       "0  CRU-00464981-21                    1/09/2021 0:45                16   \n",
       "1  CRU-00464982-21                    1/09/2021 0:03                13   \n",
       "2  CRU-00464983-21                    1/09/2021 0:15                10   \n",
       "3  CRU-00464984-21                    1/09/2021 0:11                 2   \n",
       "4  CRU-00464986-21                    1/09/2021 0:16                 3   \n",
       "\n",
       "       LOCALIDAD      EDAD    UNIDAD     GENERO    RED       TIPO_INCIDENTE  \\\n",
       "0  Puente Aranda        15      A¤os  MASCULINO  Norte              Enfermo   \n",
       "1    Teusaquillo  SIN_DATO  SIN_DATO   SIN_DATO  Norte               Herido   \n",
       "2       Engativ         56      A¤os  MASCULINO  Norte         Intoxicaci¢n   \n",
       "3      Chapinero  SIN_DATO  SIN_DATO   SIN_DATO  Norte               Herido   \n",
       "4       Santa Fe        28      A¤os   FEMENINO  Norte  Evento Respiratorio   \n",
       "\n",
       "  PRIORIDAD RECEPCION  \n",
       "0     MEDIA       NaN  \n",
       "1      ALTA       NaN  \n",
       "2      ALTA       NaN  \n",
       "3      ALTA       NaN  \n",
       "4      ALTA       NaN  "
      ]
     },
     "execution_count": 12,
     "metadata": {},
     "output_type": "execute_result"
    }
   ],
   "source": [
    "df.head ()"
   ]
  },
  {
   "cell_type": "code",
   "execution_count": 13,
   "metadata": {},
   "outputs": [
    {
     "data": {
      "text/plain": [
       "(251231, 11)"
      ]
     },
     "execution_count": 13,
     "metadata": {},
     "output_type": "execute_result"
    }
   ],
   "source": [
    "df.shape"
   ]
  },
  {
   "cell_type": "code",
   "execution_count": 14,
   "metadata": {},
   "outputs": [],
   "source": [
    "def remove_duplicates(df):\n",
    "  df = df.drop_duplicates() \n",
    "  df.reset_index(inplace=True, drop=True) \n",
    "  return df"
   ]
  },
  {
   "cell_type": "code",
   "execution_count": 15,
   "metadata": {},
   "outputs": [],
   "source": [
    "def cleaning_date (df):\n",
    "\n",
    "  col ='FECHA_INICIO_DESPLAZAMIENTO_MOVIL'\n",
    "  df[col] #verificar como vienen los datos de la columna de fechas\n",
    "\n",
    "  fecha = '1985-12-03 00:00:00'\n",
    "  pd.to_datetime(fecha,errors='coerce', format ='%Y/%m/%d')#no asignarle nada si se encuentra en ese formato \n",
    "  #y asignarle un formato de fecha para verificar si es una fecha correcta o es un NaT\n",
    "\n",
    "  col='FECHA_INICIO_DESPLAZAMIENTO_MOVIL'\n",
    "  df[col] = pd.to_datetime(df[col],errors='coerce') #cambiar el tipo de dato string a fecha\n",
    "  df.info()\n",
    "\n",
    "  #crear una funcion para intentar corregir las fechas incluyendo los nulos\n",
    "  fechas = lambda x: parse(x)\n",
    "\n",
    "  list_fechas = list() #convertir en una lista las fechas\n",
    "  for fecha in df[col]:\n",
    "    try: #intente hacerlo\n",
    "        new_fecha = parse(fecha)\n",
    "    except Exception as e:\n",
    "        new_fecha = pd.to_datetime(fecha,errors='coerce')#me muestra los errores como NaT y no se detiene el codigo\n",
    "       \n",
    "    list_fechas.append(new_fecha)\n",
    "\n",
    "  df['RECEPCION_CORREGIDA'] =list_fechas #crear una nueva columna con las fecha corregidas\n",
    "\n",
    "  return df"
   ]
  },
  {
   "cell_type": "code",
   "execution_count": 16,
   "metadata": {},
   "outputs": [],
   "source": [
    "def column_cleaning (df):\n",
    "\n",
    " col = 'UNIDAD'\n",
    " df [col].fillna('SIN_DATO', inplace=True)\n",
    " df [col].value_counts(dropna=False, normalize=True)\n",
    "\n",
    " col='EDAD'\n",
    " df[col].replace({'SIN_DATO': np.nan}, inplace =True) #reemplaza las de SIN_DATE por nan sin numero asignado\n",
    " df[col]\n",
    "\n",
    " f = lambda x: x if pd.isna(x) else int(x) #definimos la funcion f para que si es nulo ponga x o si no ponga entero de f\n",
    " df[col] = df[col].apply(f)#para cambiar el tipo de dato de la columna EDAD de object a float\n",
    " return df"
   ]
  },
  {
   "cell_type": "code",
   "execution_count": 17,
   "metadata": {},
   "outputs": [
    {
     "data": {
      "text/plain": [
       "WindowsPath('C:/Users/andre/OneDrive/Escritorio/Fabian Universidad/Lenguaje/BigData/data')"
      ]
     },
     "execution_count": 17,
     "metadata": {},
     "output_type": "execute_result"
    }
   ],
   "source": [
    "root_dir=Path('.').resolve().parent\n",
    "root_dir"
   ]
  },
  {
   "cell_type": "code",
   "execution_count": 18,
   "metadata": {},
   "outputs": [],
   "source": [
    "root_dir=Path('.').resolve().parent\n",
    "    \n",
    "out_name = 'llamadas123_2021_2022.csv'# Indicar nombre al archivo de salida\n",
    "out_path = os.path.join(root_dir,'processed', out_name)\n",
    "df.to_csv(out_path, sep=';')"
   ]
  },
  {
   "cell_type": "code",
   "execution_count": 19,
   "metadata": {},
   "outputs": [],
   "source": [
    "def main():\n",
    "\n",
    "    remove_duplicates\n",
    "    cleaning_date\n",
    "    column_cleaning\n",
    "    save_data\n",
    "    print('DONE')"
   ]
  },
  {
   "cell_type": "code",
   "execution_count": 20,
   "metadata": {},
   "outputs": [
    {
     "ename": "NameError",
     "evalue": "name 'save_data' is not defined",
     "output_type": "error",
     "traceback": [
      "\u001b[1;31m---------------------------------------------------------------------------\u001b[0m",
      "\u001b[1;31mNameError\u001b[0m                                 Traceback (most recent call last)",
      "\u001b[1;32mc:\\Users\\andre\\OneDrive\\Escritorio\\Fabian Universidad\\Lenguaje\\BigData\\Notebooks\\cleaning_2021_2022.ipynb Celda 20\u001b[0m in \u001b[0;36m<cell line: 1>\u001b[1;34m()\u001b[0m\n\u001b[0;32m      <a href='vscode-notebook-cell:/c%3A/Users/andre/OneDrive/Escritorio/Fabian%20Universidad/Lenguaje/BigData/Notebooks/cleaning_2021_2022.ipynb#X25sZmlsZQ%3D%3D?line=0'>1</a>\u001b[0m \u001b[39mif\u001b[39;00m \u001b[39m__name__\u001b[39m \u001b[39m==\u001b[39m \u001b[39m\"\u001b[39m\u001b[39m__main__\u001b[39m\u001b[39m\"\u001b[39m:\n\u001b[1;32m----> <a href='vscode-notebook-cell:/c%3A/Users/andre/OneDrive/Escritorio/Fabian%20Universidad/Lenguaje/BigData/Notebooks/cleaning_2021_2022.ipynb#X25sZmlsZQ%3D%3D?line=2'>3</a>\u001b[0m     main()\n",
      "\u001b[1;32mc:\\Users\\andre\\OneDrive\\Escritorio\\Fabian Universidad\\Lenguaje\\BigData\\Notebooks\\cleaning_2021_2022.ipynb Celda 20\u001b[0m in \u001b[0;36mmain\u001b[1;34m()\u001b[0m\n\u001b[0;32m      <a href='vscode-notebook-cell:/c%3A/Users/andre/OneDrive/Escritorio/Fabian%20Universidad/Lenguaje/BigData/Notebooks/cleaning_2021_2022.ipynb#X25sZmlsZQ%3D%3D?line=3'>4</a>\u001b[0m cleaning_date\n\u001b[0;32m      <a href='vscode-notebook-cell:/c%3A/Users/andre/OneDrive/Escritorio/Fabian%20Universidad/Lenguaje/BigData/Notebooks/cleaning_2021_2022.ipynb#X25sZmlsZQ%3D%3D?line=4'>5</a>\u001b[0m column_cleaning\n\u001b[1;32m----> <a href='vscode-notebook-cell:/c%3A/Users/andre/OneDrive/Escritorio/Fabian%20Universidad/Lenguaje/BigData/Notebooks/cleaning_2021_2022.ipynb#X25sZmlsZQ%3D%3D?line=5'>6</a>\u001b[0m save_data\n\u001b[0;32m      <a href='vscode-notebook-cell:/c%3A/Users/andre/OneDrive/Escritorio/Fabian%20Universidad/Lenguaje/BigData/Notebooks/cleaning_2021_2022.ipynb#X25sZmlsZQ%3D%3D?line=6'>7</a>\u001b[0m \u001b[39mprint\u001b[39m(\u001b[39m'\u001b[39m\u001b[39mDONE\u001b[39m\u001b[39m'\u001b[39m)\n",
      "\u001b[1;31mNameError\u001b[0m: name 'save_data' is not defined"
     ]
    }
   ],
   "source": [
    "if __name__ == \"__main__\":\n",
    "    \n",
    "    main()"
   ]
  }
 ],
 "metadata": {
  "kernelspec": {
   "display_name": "Python 3.9.12 ('base')",
   "language": "python",
   "name": "python3"
  },
  "language_info": {
   "codemirror_mode": {
    "name": "ipython",
    "version": 3
   },
   "file_extension": ".py",
   "mimetype": "text/x-python",
   "name": "python",
   "nbconvert_exporter": "python",
   "pygments_lexer": "ipython3",
   "version": "3.9.12"
  },
  "orig_nbformat": 4,
  "vscode": {
   "interpreter": {
    "hash": "c4f92193806e2908606a5f23edd55a5282f2f433b73b1c504507f9256ed9f0b4"
   }
  }
 },
 "nbformat": 4,
 "nbformat_minor": 2
}
